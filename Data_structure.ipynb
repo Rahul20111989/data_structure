{
  "nbformat": 4,
  "nbformat_minor": 0,
  "metadata": {
    "colab": {
      "provenance": []
    },
    "kernelspec": {
      "name": "python3",
      "display_name": "Python 3"
    },
    "language_info": {
      "name": "python"
    }
  },
  "cells": [
    {
      "cell_type": "code",
      "execution_count": null,
      "metadata": {
        "colab": {
          "base_uri": "https://localhost:8080/"
        },
        "id": "XbxledQ4ws8m",
        "outputId": "6ec10298-b1e9-4c7d-d9ec-05474b059e3a"
      },
      "outputs": [
        {
          "output_type": "stream",
          "name": "stdout",
          "text": [
            "My name is Rahul\n"
          ]
        }
      ],
      "source": [
        "# Question 1 Write a code to create a string with your name and print it\n",
        "my_name = \"Rahul\"\n",
        "print(\"My name is \" + my_name)"
      ]
    },
    {
      "cell_type": "code",
      "source": [
        "# Question 2 Write a code to find the length of the string \"Hello World\"E\n",
        "len_string = \"campers\"\n",
        "print(len(len_string))"
      ],
      "metadata": {
        "colab": {
          "base_uri": "https://localhost:8080/"
        },
        "id": "-USe62CXxc1W",
        "outputId": "5338407a-92ec-4f8d-be91-f98755b13afc"
      },
      "execution_count": null,
      "outputs": [
        {
          "output_type": "stream",
          "name": "stdout",
          "text": [
            "7\n"
          ]
        }
      ]
    },
    {
      "cell_type": "code",
      "source": [
        "# Question 3 Write a code to slice the first 3 characters from the string \"Python Programming\n",
        "full_name = \"Rahul\"\n",
        "print(full_name[0:3])"
      ],
      "metadata": {
        "colab": {
          "base_uri": "https://localhost:8080/"
        },
        "id": "HZQ7SHUMx1O1",
        "outputId": "2597298c-95d0-4f05-86b8-9b09cd76ab2e"
      },
      "execution_count": null,
      "outputs": [
        {
          "output_type": "stream",
          "name": "stdout",
          "text": [
            "Rah\n"
          ]
        }
      ]
    },
    {
      "cell_type": "code",
      "source": [
        "print(full_name[:3]) #Takes default value as 0"
      ],
      "metadata": {
        "colab": {
          "base_uri": "https://localhost:8080/"
        },
        "id": "tfpTprZe0DRY",
        "outputId": "0b1e320e-131a-4ba3-ec93-bd7f1420a18e"
      },
      "execution_count": null,
      "outputs": [
        {
          "output_type": "stream",
          "name": "stdout",
          "text": [
            "Rah\n"
          ]
        }
      ]
    },
    {
      "cell_type": "code",
      "source": [
        "print(full_name[-5:-2]) #Using negative index"
      ],
      "metadata": {
        "colab": {
          "base_uri": "https://localhost:8080/"
        },
        "id": "bQOZUklJ1HzA",
        "outputId": "4f5310d6-c1d5-4fc3-8b4b-eae00beae101"
      },
      "execution_count": null,
      "outputs": [
        {
          "output_type": "stream",
          "name": "stdout",
          "text": [
            "Rah\n"
          ]
        }
      ]
    },
    {
      "cell_type": "code",
      "source": [
        "# Question 4  Write a code to convert the string \"hello\" to uppercaseE\n",
        "sentence = \"this sentence will be in upper case\"\n",
        "new_uc = sentence.upper()\n",
        "print(new_uc)"
      ],
      "metadata": {
        "colab": {
          "base_uri": "https://localhost:8080/"
        },
        "id": "ZARn4DtA1huX",
        "outputId": "1677e406-66db-4b77-be0f-6457f384f8a6"
      },
      "execution_count": null,
      "outputs": [
        {
          "output_type": "stream",
          "name": "stdout",
          "text": [
            "THIS SENTENCE WILL BE IN UPPER CASE\n"
          ]
        }
      ]
    },
    {
      "cell_type": "code",
      "source": [
        "# Question 5 Write a code to replace the word \"apple\" with \"orange\" in the string \"I like apple\"E\n",
        "fruit = \"apple\"\n",
        "new_fruit = fruit.replace(\"apple\", \"orange\")\n",
        "print(new_fruit)"
      ],
      "metadata": {
        "colab": {
          "base_uri": "https://localhost:8080/"
        },
        "id": "7TtrUka02_9t",
        "outputId": "b3e0f826-e5e6-4c30-aace-f66c12de1503"
      },
      "execution_count": null,
      "outputs": [
        {
          "output_type": "stream",
          "name": "stdout",
          "text": [
            "orange\n"
          ]
        }
      ]
    },
    {
      "cell_type": "code",
      "source": [
        "#Question 6 Write a code to create a list with numbers 1 to 5 and print it\n",
        "my_list = [1, 2, 3, 4, 5]\n",
        "type(my_list)"
      ],
      "metadata": {
        "colab": {
          "base_uri": "https://localhost:8080/"
        },
        "id": "piUdEHdl30qe",
        "outputId": "3cb9eea4-9730-47ca-e55d-bdad6004a705"
      },
      "execution_count": null,
      "outputs": [
        {
          "output_type": "execute_result",
          "data": {
            "text/plain": [
              "list"
            ]
          },
          "metadata": {},
          "execution_count": 16
        }
      ]
    },
    {
      "cell_type": "code",
      "source": [
        "print(my_list)"
      ],
      "metadata": {
        "colab": {
          "base_uri": "https://localhost:8080/"
        },
        "id": "UbLVO9yz42Ki",
        "outputId": "b45286a4-0698-4dc0-d579-eb589c453149"
      },
      "execution_count": null,
      "outputs": [
        {
          "output_type": "stream",
          "name": "stdout",
          "text": [
            "[1, 2, 3, 4, 5]\n"
          ]
        }
      ]
    },
    {
      "cell_type": "code",
      "source": [
        "# Question 7 Write a code to append the number 10 to the list [1, 2, 3, 4]\n",
        "list_a = [1,2,3,4]\n",
        "list_a.append(10) # In case of strings to update we need to store in a variable that inturn will create a new object while list is mutable hence there is no need to store in a variable the existing list can be modified.\n",
        "print(list_a)"
      ],
      "metadata": {
        "colab": {
          "base_uri": "https://localhost:8080/"
        },
        "id": "e39MH7dl45hf",
        "outputId": "33c17518-8c55-4dab-ee48-d713f099307c"
      },
      "execution_count": null,
      "outputs": [
        {
          "output_type": "stream",
          "name": "stdout",
          "text": [
            "[1, 2, 3, 4, 10]\n"
          ]
        }
      ]
    },
    {
      "cell_type": "code",
      "source": [
        "# Question 8 Write a code to remove the number 3 from the list [1, 2, 3, 4, 5]\n",
        "my_list = [1, 2, 3, 4, 5]\n",
        "my_list.remove(3)\n",
        "print(my_list)"
      ],
      "metadata": {
        "colab": {
          "base_uri": "https://localhost:8080/"
        },
        "id": "Nh7H_oEy5oMF",
        "outputId": "7eed88c2-5921-4902-a550-00143da835cf"
      },
      "execution_count": null,
      "outputs": [
        {
          "output_type": "stream",
          "name": "stdout",
          "text": [
            "[1, 2, 4, 5]\n"
          ]
        }
      ]
    },
    {
      "cell_type": "code",
      "source": [
        "# Question 9  Write a code to access the second element in the list ['a', 'b', 'c', 'd']\n",
        "list_access = [\"a\", \"b\", \"c\", \"d\"]\n",
        "list_access[1]"
      ],
      "metadata": {
        "colab": {
          "base_uri": "https://localhost:8080/",
          "height": 35
        },
        "id": "xg_RMvET83VO",
        "outputId": "5820b7be-888f-4750-9eb0-539f735193eb"
      },
      "execution_count": null,
      "outputs": [
        {
          "output_type": "execute_result",
          "data": {
            "text/plain": [
              "'b'"
            ],
            "application/vnd.google.colaboratory.intrinsic+json": {
              "type": "string"
            }
          },
          "metadata": {},
          "execution_count": 23
        }
      ]
    },
    {
      "cell_type": "code",
      "source": [
        "# Question 10 Write a code to reverse the list [10, 20, 30, 40, 50].\n",
        "reverse_my_list = [10, 20, 30, 40, 50]\n",
        "reverse_my_list.reverse()\n",
        "reverse_my_list"
      ],
      "metadata": {
        "colab": {
          "base_uri": "https://localhost:8080/"
        },
        "id": "q7BQk5Dm-rx_",
        "outputId": "8ff4f3bc-6780-45ac-da99-782ea138dee7"
      },
      "execution_count": null,
      "outputs": [
        {
          "output_type": "execute_result",
          "data": {
            "text/plain": [
              "[50, 40, 30, 20, 10]"
            ]
          },
          "metadata": {},
          "execution_count": 27
        }
      ]
    },
    {
      "cell_type": "code",
      "source": [
        "# Question 11 Write a code to create a tuple with the elements 10, 20, 30 and print it.\n",
        "my_tuple =(1, \"Rahul\", 3+5j, 1.1)\n",
        "type(my_tuple)"
      ],
      "metadata": {
        "colab": {
          "base_uri": "https://localhost:8080/"
        },
        "id": "AxHtubUa_qH_",
        "outputId": "6cbccfd7-52aa-4cf8-d022-048e32defea7"
      },
      "execution_count": null,
      "outputs": [
        {
          "output_type": "execute_result",
          "data": {
            "text/plain": [
              "tuple"
            ]
          },
          "metadata": {},
          "execution_count": 29
        }
      ]
    },
    {
      "cell_type": "code",
      "source": [
        "# Question 12 Write a code to access the first element of the tuple ('apple', 'banana', 'cherry').\n",
        "my_tuple[0] #used tuple from question 11"
      ],
      "metadata": {
        "colab": {
          "base_uri": "https://localhost:8080/"
        },
        "id": "GQZABZeeAxRF",
        "outputId": "6c391e24-9ca1-42eb-9acc-96f3a5b2b894"
      },
      "execution_count": null,
      "outputs": [
        {
          "output_type": "execute_result",
          "data": {
            "text/plain": [
              "1"
            ]
          },
          "metadata": {},
          "execution_count": 30
        }
      ]
    },
    {
      "cell_type": "code",
      "source": [
        "#Question 13 Write a code to count how many times the number 2 appears in the tuple (1, 2, 3, 2, 4, 2)\n",
        "sec_tuple = (1, 2, 3, 2, 4, 2) #note we cant add tuple to t=exisitng one. We have to concatenate the new value with the existing tuple and store the value in new variable creating new tuple with previous value.\n",
        "display_tuple = sec_tuple.count(2)\n",
        "display_tuple"
      ],
      "metadata": {
        "colab": {
          "base_uri": "https://localhost:8080/"
        },
        "id": "3ReVP0sYBSOI",
        "outputId": "192f0af8-b33c-4c20-d045-b9961503dbdf"
      },
      "execution_count": null,
      "outputs": [
        {
          "output_type": "execute_result",
          "data": {
            "text/plain": [
              "3"
            ]
          },
          "metadata": {},
          "execution_count": 31
        }
      ]
    },
    {
      "cell_type": "code",
      "source": [
        "# Question 14 Write a code to find the index of the element \"cat\" in the tuple ('dog', 'cat', 'rabbit').\n",
        "animals = ('dog', 'cat', 'rabbit')\n",
        "y = animals.index(\"cat\") #here we are using () instead of [] brackets because  we are accessing the element 'cat' itself and not index. In list we access the elements.\n",
        "print(y)"
      ],
      "metadata": {
        "colab": {
          "base_uri": "https://localhost:8080/"
        },
        "id": "KIJok3r6F7T1",
        "outputId": "a067a4ac-1d9c-4dd1-b4dd-c0555916413b"
      },
      "execution_count": null,
      "outputs": [
        {
          "output_type": "stream",
          "name": "stdout",
          "text": [
            "1\n"
          ]
        }
      ]
    },
    {
      "cell_type": "code",
      "source": [
        "# Question 15 Write a code to check if the element \"banana\" is in the tuple ('apple', 'orange', 'banana').\n",
        "tuple_fruits = ('apple', 'orange', 'banana')\n",
        "if \"banana\" in tuple_fruits:\n",
        "  print(\"Banana is present\")\n",
        "else:\n",
        "  print(\"There is no item called banana\")"
      ],
      "metadata": {
        "colab": {
          "base_uri": "https://localhost:8080/"
        },
        "id": "cNnUgGMcG2BY",
        "outputId": "a27f73e5-f567-4fa4-860b-106a96aa2af2"
      },
      "execution_count": null,
      "outputs": [
        {
          "output_type": "stream",
          "name": "stdout",
          "text": [
            "Banana is present\n"
          ]
        }
      ]
    },
    {
      "cell_type": "code",
      "source": [
        "# Question 16 Write a code to create a set with the elements 1, 2, 3, 4, 5 and print it\n",
        "set_test = {1,2,3,4,5,4,\"rahul\"} #I purposely duplicated the number 4 and printed to show that set has unique element\n",
        "print(set_test)"
      ],
      "metadata": {
        "colab": {
          "base_uri": "https://localhost:8080/"
        },
        "id": "KdKEo9HyKwQw",
        "outputId": "f991af16-f7b1-40ea-9695-13ab32c8306e"
      },
      "execution_count": null,
      "outputs": [
        {
          "output_type": "stream",
          "name": "stdout",
          "text": [
            "{1, 2, 3, 4, 5, 'rahul'}\n"
          ]
        }
      ]
    },
    {
      "cell_type": "code",
      "source": [
        "for i in set_test: #\n",
        "  print(i)"
      ],
      "metadata": {
        "colab": {
          "base_uri": "https://localhost:8080/"
        },
        "id": "YXzo89GBRcuw",
        "outputId": "47a9ec5a-fea8-4130-ac5c-9b487e79527b"
      },
      "execution_count": null,
      "outputs": [
        {
          "output_type": "stream",
          "name": "stdout",
          "text": [
            "1\n",
            "2\n",
            "3\n",
            "4\n",
            "5\n",
            "rahul\n"
          ]
        }
      ]
    },
    {
      "cell_type": "code",
      "source": [
        "# Question 17 Write a code to add the element 6 to the set {1, 2, 3, 4}.\n",
        "new_set = {1,2,3,4}\n",
        "new_set.add(6) #no need to store in variable bec. set is mutable and the value is added or modified in new_set itself rather than creating and storing in a new variable\n",
        "print(new_set)\n"
      ],
      "metadata": {
        "colab": {
          "base_uri": "https://localhost:8080/"
        },
        "id": "d8GR5KJISabH",
        "outputId": "be835e12-59e0-4e87-a459-eeeb54826683"
      },
      "execution_count": null,
      "outputs": [
        {
          "output_type": "stream",
          "name": "stdout",
          "text": [
            "{1, 2, 3, 4, 6}\n"
          ]
        }
      ]
    },
    {
      "cell_type": "code",
      "source": [
        "# Question 18 Write a code to create a tuple with the elements 10, 20, 30 and print it.\n",
        "create_tuple = (10, 20, 30)\n",
        "print(create_tuple)"
      ],
      "metadata": {
        "colab": {
          "base_uri": "https://localhost:8080/"
        },
        "id": "E-xOjVYoUwsD",
        "outputId": "7552e7dd-a982-4bff-a5a8-abd13654e0a9"
      },
      "execution_count": null,
      "outputs": [
        {
          "output_type": "stream",
          "name": "stdout",
          "text": [
            "(10, 20, 30)\n"
          ]
        }
      ]
    },
    {
      "cell_type": "code",
      "source": [
        "# The rest of the questions are repeated.\n"
      ],
      "metadata": {
        "id": "ZWG3We0QWQn5"
      },
      "execution_count": null,
      "outputs": []
    },
    {
      "cell_type": "code",
      "source": [],
      "metadata": {
        "id": "-IEyf4mxrHsz"
      },
      "execution_count": null,
      "outputs": []
    },
    {
      "cell_type": "code",
      "source": [],
      "metadata": {
        "id": "6haUlqeX6HWq"
      },
      "execution_count": null,
      "outputs": []
    },
    {
      "cell_type": "code",
      "source": [
        "my_dict = {'a': 1, 'b': 2, 'c': 3}\n",
        "\n",
        "# Check if a key is in the dictionary\n",
        "print('a' in my_dict)  # Output: True\n",
        "print('d' in my_dict)  # Output: False\n"
      ],
      "metadata": {
        "colab": {
          "base_uri": "https://localhost:8080/"
        },
        "id": "9Z1QfaIM6KNE",
        "outputId": "a6caed8a-dea8-4967-b605-96f0e533e41f"
      },
      "execution_count": null,
      "outputs": [
        {
          "output_type": "stream",
          "name": "stdout",
          "text": [
            "True\n",
            "False\n"
          ]
        }
      ]
    },
    {
      "cell_type": "code",
      "source": [],
      "metadata": {
        "id": "wA9UYQzo6LaF"
      },
      "execution_count": null,
      "outputs": []
    },
    {
      "cell_type": "markdown",
      "source": [
        "Theorey Questions\n",
        "1.  What are data structures, and why are they important?\n",
        "    Ans: When we code a Python program it deals with data and data is stored in variables.  So when we store data in a variable,  it will create a memory block and this data will be stored sequentially. The way Python organizes and stores data is called data structure.  For example:\n",
        "Variable   a = “rahul” here the data is stored in a sequential way called index. Data structure is important in Python:\n",
        " because it allows you to organise data in different ways for instance list dictionary,  sets provide different ways to store data.\n",
        "We will be able to write the code in a cleaner format and it will be easier to maintain.  This helps us to understand the code better and reduce the errors.\n",
        "The size of data entry in the program can become slower however maintaining Data Structure can reduce this problem as we have different types of data structure that we can 9implement based on the usage.\n",
        "Python provides different types of data structure such as list couples set and dictionaries. This can be used to write faster and simpler code.\n",
        "\n"
      ],
      "metadata": {
        "id": "bNguOGpLVtvn"
      }
    },
    {
      "cell_type": "code",
      "source": [],
      "metadata": {
        "id": "I-HvogosWZc9"
      },
      "execution_count": null,
      "outputs": []
    },
    {
      "cell_type": "markdown",
      "source": [
        "2. Explain the difference between mutable and immutable data types with examples.\n",
        "\n",
        "    ANS: Data types are categorised into two they are immutable and mutable data:\n",
        "The mutable data can be changed once it is created. They include lists, sets and dictionaries.\n",
        "List\n",
        "\n",
        "a = [1, 2, 3]    \n",
        "a [0] = 22\n",
        "print(a) # output will be 22, 2, 3\n"
      ],
      "metadata": {
        "id": "_3xQPSDnXK_k"
      }
    },
    {
      "cell_type": "markdown",
      "source": [
        "3. What are the main differences between lists and tuples in Python?\n",
        "  ANS: In the case of immutable data that is ‘Tuple’ once it is created they cannot be modified or changed this includes tuples. String tuples and integers are immutable data types.\n",
        "Eg:\n",
        "my_tuple = (1, 2, 3)\n",
        "My_tuple[0] = 4 # error wil be displayed\n",
        "print(my_tuple) # 1, 2, 3 the tuplke won't bre updated as it is immutable.\n",
        "\n",
        "On the other hand Lists are mutable that mean we can create and update or remove the values inside a list.\n"
      ],
      "metadata": {
        "id": "H3maWtZKc9ae"
      }
    },
    {
      "cell_type": "code",
      "source": [
        "3."
      ],
      "metadata": {
        "id": "bztQvjATXXcT"
      },
      "execution_count": null,
      "outputs": []
    },
    {
      "cell_type": "markdown",
      "source": [
        " 4. Describe how dictionaries store data?    \n",
        "  **ANS** : Dictionary is a data Structure that Key value pairs. It can store the value in any data type. These keys are unique and immutable. It is represented by < {} >. It contains key and value.\n",
        "\n",
        "my_dict = {‘name’ : ‘rahul’, ‘sir name’ : ‘V R’ }\n",
        "\n",
        "The 'name' and 'sir name' is Key and values are ‘rahul’ . Values are stored in memory blocks just like lists. However, the values are referred throught keys that is ‘name’ and ‘sir name’. Here keys become index. To access value of name we execute\n",
        "my_dict[‘name’]\n",
        "\n",
        "We can also access by using get\n",
        "My_dict.get[‘name’] this will not print error instead it will print ‘none’ if we try to access the key that doesent exist.\n",
        "\n",
        " When you store a key-value pair, Python turns the key into a unique number called a hash. This number helps Python quickly find where to store the value in memory."
      ],
      "metadata": {
        "id": "ZRHk1kKpcDqV"
      }
    },
    {
      "cell_type": "code",
      "source": [],
      "metadata": {
        "id": "NHElI4lEcnlU"
      },
      "execution_count": null,
      "outputs": []
    },
    {
      "cell_type": "markdown",
      "source": [
        "5. Why might you use a set instead of a list in Python?\n",
        "\n",
        "      Ans: If we want to check and remove the duplicate value, we can use set rather than list making sure that all the items are unique. If order of the elements are not of important however, there needs to be uniqueness, then set is the perfect option. Sets is a better option if we use it for mathematical calculation like union intersection and difference. \\\n"
      ],
      "metadata": {
        "id": "2J0w8hp7oLBg"
      }
    },
    {
      "cell_type": "code",
      "source": [],
      "metadata": {
        "id": "y9Ncth1_ocGQ"
      },
      "execution_count": null,
      "outputs": []
    },
    {
      "cell_type": "markdown",
      "source": [
        "6. What is a string in Python, and how is it different from a list4\n",
        "\n",
        "   Ans:  String is a sequence of characters used to represent a text it is denoted by ‘’ or “”. Strings are immutable that cannot be changed once created and they are ordered and can be accessed through index.\n",
        "   While list on the other hand is ordered and mutable.\n",
        "   This can contain any data type. Be it string, integer, float\n",
        "\n"
      ],
      "metadata": {
        "id": "xCqlcwiXtxlf"
      }
    },
    {
      "cell_type": "code",
      "source": [],
      "metadata": {
        "id": "72cQzuKrt-Zs"
      },
      "execution_count": null,
      "outputs": []
    },
    {
      "cell_type": "markdown",
      "source": [
        "7.  How do tuples ensure data integrity in Python4\n",
        "\n",
        "    Ans: Tuples are immutable, which means their data cannot be changed after they are created. This provides protection against accidental correction or change in data thereby ensuring data integrity.\n",
        "\n",
        "\n"
      ],
      "metadata": {
        "id": "OAZAuja2uLj7"
      }
    },
    {
      "cell_type": "markdown",
      "source": [
        "8. What is a hash table, and how does it relate to dictionaries in Python4\n",
        "\n",
        "   Ans:  Hash value  is a data structure that provides an efficient way to store and retrieve data by a process called hashing. This is used to map key with the value  in dictionary. Here when you add a key-value pair to a hash table, the key is passed through a hash function. This function generates a hash value (an integer) from the key.\n",
        "\n"
      ],
      "metadata": {
        "id": "t4b7dmcAuq-e"
      }
    },
    {
      "cell_type": "code",
      "source": [],
      "metadata": {
        "id": "H01ftO1Eu3M9"
      },
      "execution_count": 3,
      "outputs": []
    },
    {
      "cell_type": "markdown",
      "source": [
        "9.Can lists contain different data types in Python4\n",
        "\n",
        "Ans: Yes list is very flexible and mutable.  it can hold different types of datas such as integers,  float,  string  and even boolean.  you can also nest list inside a list. Lists are represented as\n",
        "\n",
        "my_list = [1, \"apple\", 3.14, True, [10, 20, 30]]\n",
        "\n"
      ],
      "metadata": {
        "id": "fn2Hucb2vIQE"
      }
    },
    {
      "cell_type": "markdown",
      "source": [
        "10. Explain why strings are immutable in Python\n",
        "\n",
        "Ans: Strings are immutable for the following reasons:\n",
        "\n",
        "\n",
        "1.   Immutability guarantees that strings can be used as dictionary keys and set elements because their hash values remain constant.\n",
        "2.   It prevents accidental correction or changes of data\n",
        "\n",
        "\n",
        "\n",
        "\n"
      ],
      "metadata": {
        "id": "6keUDcYtxcKX"
      }
    },
    {
      "cell_type": "markdown",
      "source": [],
      "metadata": {
        "id": "P3vUqMnovAOS"
      }
    },
    {
      "cell_type": "markdown",
      "source": [
        "11.  What advantages do dictionaries offer over lists for certain tasks?\n",
        "\n",
        "Ans:  \n",
        "Advantages of using dictionary are following:\n",
        "\n",
        "\n",
        "*   Unlike list where the search has to  be done by index through the entire list. Dictionary can use key pairs example ‘name’, ‘address’.\n",
        "*  With dictionaries, you can easily add, remove, or modify elements by specifying the key.  In lists, we have to find the position of an element or manipulate the order of elements, which is slower.\n",
        "\n",
        "\n",
        "*   Dictionaries on other hand can identify and overwrite a duplicate value. On the other hand lists accept duplicate values.\n",
        "\n",
        "\n",
        "*   Dictionaries  are better at organizing data Compare to list because we can assign a meaningful key pair.\n",
        "\n",
        "\n",
        "\n",
        "\n",
        "\n",
        "\n",
        "\n"
      ],
      "metadata": {
        "id": "Q0ceBi3myH6s"
      }
    },
    {
      "cell_type": "markdown",
      "source": [
        "12.  Describe a scenario where using a tuple would be preferable over a list\n",
        "\n",
        "Ans: Tuples  are  immutable whereas lists are mutable. Tuples are beneficial when adding a permanent data such as updating your passport number or Aadhar number all details of a birth certificate  since these data doesn't need to be changed and avoids accidental corrections of data.\n",
        "\n",
        "\n"
      ],
      "metadata": {
        "id": "2O8CvjUmzh3Y"
      }
    },
    {
      "cell_type": "markdown",
      "source": [
        "13.  How do sets handle duplicate values in Python?\n",
        "\n",
        "Ans: Sets is a collection of unique elements. So if we enter a duplicate value in  sets it will be removed. This ensures that the elements are not duplicated.\n",
        "\n",
        "a_set = {1, 2, 3, 2, 4, 5, 3}\n",
        "\n",
        "print(a_set) will print 1, 2, 3, 4, 5\n",
        "\n"
      ],
      "metadata": {
        "id": "KymfFzm8z3yb"
      }
    },
    {
      "cell_type": "markdown",
      "source": [
        "14. How does the “in” keyword work differently for lists and dictionaries?\n",
        "\n",
        "Ans: Is used to check the value in a container that contains data inside the lists or dictionary.  If we use ‘in’ keyword to print values inside the dictionary will give an output of Boolean values.  whereas and case of list it will directly print out the values inside the list\n",
        "\n"
      ],
      "metadata": {
        "id": "57PhJMnv0NfK"
      }
    },
    {
      "cell_type": "markdown",
      "source": [
        "15.  Can you modify the elements of a tuple? Explain why or why not\n",
        "\n",
        "Ans:  Tuples are  immutable which means it cannot be changed once it has been created.  Tuples are meant  to create and store data permanently.\n",
        "\n"
      ],
      "metadata": {
        "id": "cdVXr1mN0acQ"
      }
    },
    {
      "cell_type": "markdown",
      "source": [
        "16. What is a nested dictionary, and give an example of its use case?\n",
        "\n",
        "Ans:  A nested dictionary is a dictionary where the values themselves are dictionaries.\n",
        "\n",
        " Here we are having adictionary inside a dictionary.\n",
        "n\n",
        "\n",
        "ested_dict = {\n",
        "\n",
        "    'employee_1': {'name': 'Rahul', 'age': 34, 'Gender': 'male'},\n",
        "    'employee_2': {'name': 'Roshan', 'age': 22,  'Gender': 'male'},\n",
        "    'employee_3': {'name': 'Anjali', 'age': 33,  'Gender': 'female'}\n",
        "    }\n",
        "\n",
        "    \n",
        "print(nested_dict[‘employee_3’][‘name’]) #will print Anjali\n",
        "\n",
        "\n"
      ],
      "metadata": {
        "id": "3bHCpsXd0o4a"
      }
    },
    {
      "cell_type": "markdown",
      "source": [
        "17.  Describe the time complexity of accessing elements in a dictionary\n",
        "\n",
        "Ans: Accessing elements in a dictionary in Python has an average time complexity of O(1). That means the time required to access, insert, or delete an element is independent of the number of elements in the dictionary.\n",
        "\n",
        " When you perform an operation of dictionary in Python It computers hash for a key.  the hash value determinants the exact location or the index. Using the hash, Python directly jumps to the location in memory where the key-value pair is stored, without needing to search through entire dictionary.\n",
        "\n",
        "Since this lookup is direct, the time taken does not depend on the number of elements in the dictionary, making it O(1) in most cases.\n",
        "\n"
      ],
      "metadata": {
        "id": "76s_POB21SJp"
      }
    },
    {
      "cell_type": "markdown",
      "source": [
        "18.  In what situations are lists preferred over dictionaries?\n",
        "\n",
        "Ans:\n",
        "\n",
        "*   Lists are  accessed through index which is good for iterating the elements\n",
        "\n",
        "*   Lists are simplar and more memory efficient.\n",
        "\n",
        "\n",
        "\n",
        "*   List maintain order while dictionaries dont. If we need to extract data in an ordered manner lists are good.\n",
        "\n",
        "\n"
      ],
      "metadata": {
        "id": "c7MaoCIP1kGz"
      }
    },
    {
      "cell_type": "markdown",
      "source": [
        "19. Why are dictionaries considered unordered, and how does that affect data retrieval?\n",
        "\n",
        "Ans: Dictionaries were historically considered unordered because, before the  Python version 3.7, they did not maintain the insertion order of their key-value pairs.\n",
        "\n",
        "Meaning when you iterated over a dictionary or accessed its items, the order in which the keys were stored and retrieved differed from the order they were inserted or added. This will affect the iteration when order is considered as priority.\n",
        "\n"
      ],
      "metadata": {
        "id": "z3-5otKJ2Rpe"
      }
    },
    {
      "cell_type": "markdown",
      "source": [
        "20. Explain the difference between a list and a dictionary in terms of data retrieval.\n",
        "\n",
        "Ans:\n",
        "\n",
        "*   Lists are accessed using integer indices. While the dictionary uses Key value pairs.\n",
        "\n",
        "\n",
        "*   Lists are ordered. Dictionaries are unordered mappings that are below version Python 3.7.\n",
        "\n",
        "\n",
        "*   Lists are used in grouping items without any identifiers. Whereas if a data contains labled information along with value then Dictionary is the best.\n",
        "\n",
        "\n",
        "\n",
        "\n"
      ],
      "metadata": {
        "id": "hLlth5TT2dJd"
      }
    }
  ]
}